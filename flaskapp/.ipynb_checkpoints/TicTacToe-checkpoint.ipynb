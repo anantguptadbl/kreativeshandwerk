{
 "cells": [
  {
   "cell_type": "code",
   "execution_count": 153,
   "metadata": {},
   "outputs": [],
   "source": [
    "import keras\n",
    "keras.backend.clear_session()"
   ]
  },
  {
   "cell_type": "code",
   "execution_count": 151,
   "metadata": {
    "collapsed": true
   },
   "outputs": [],
   "source": [
    "import pandas as pd\n",
    "import numpy as np\n",
    "from sklearn import preprocessing\n",
    "from keras.models import Sequential\n",
    "from keras.layers.core import Dense, Activation, Dropout\n",
    "from keras.models import load_model\n",
    "\n",
    "\n",
    "model = Sequential()\n",
    "model.add(Dense(9, input_dim=9))\n",
    "model.add(Activation('sigmoid'))\n",
    "model.add(Dense(1))\n",
    "model.compile(loss='mse', optimizer='rmsprop')"
   ]
  },
  {
   "cell_type": "code",
   "execution_count": 84,
   "metadata": {
    "collapsed": true
   },
   "outputs": [],
   "source": [
    "a=[\n",
    "   [[0,1,0],\n",
    "   [0,0,0],\n",
    "   [0,0,0]],\n",
    "   [[0,1,0],\n",
    "   [0,-1,0],\n",
    "   [0,0,0]],\n",
    "   [[0,1,0],\n",
    "   [0,-1,0],\n",
    "   [0,0,1]],\n",
    "   [[0,1,-1],\n",
    "   [0,-1,0],\n",
    "   [0,0,1]],\n",
    "   [[0,1,-1],\n",
    "   [0,-1,0],\n",
    "   [1,0,1]],\n",
    "   [[0,1,-1],\n",
    "   [-1,-1,0],\n",
    "   [1,0,1]],\n",
    "   [[0,1,-1],\n",
    "   [-1,-1,0],\n",
    "   [1,1,1]],\n",
    "  ]\n",
    "\n",
    "def trainModel(inputData):\n",
    "    model = load_model('tictactoe_model')\n",
    "    inputData=np.reshape(a,(7,9,))\n",
    "    labels=[1,1,1,1,1,1,1]\n",
    "    model.fit(inputData, labels, batch_size=32, nb_epoch=20, verbose=2, validation_split=0.15)\n",
    "    #Save partly trained model\n",
    "    model.save('tictactoe_model')"
   ]
  },
  {
   "cell_type": "code",
   "execution_count": 78,
   "metadata": {
    "collapsed": true
   },
   "outputs": [
    {
     "name": "stdout",
     "output_type": "stream",
     "text": [
      "Train on 5 samples, validate on 2 samples\n",
      "Epoch 1/20\n",
      " - 0s - loss: 0.0066 - val_loss: 0.0011\n",
      "Epoch 2/20\n",
      " - 0s - loss: 0.0063 - val_loss: 9.9785e-04\n",
      "Epoch 3/20\n",
      " - 0s - loss: 0.0060 - val_loss: 9.8024e-04\n",
      "Epoch 4/20\n",
      " - 0s - loss: 0.0058 - val_loss: 9.9999e-04\n",
      "Epoch 5/20\n",
      " - 0s - loss: 0.0056 - val_loss: 0.0010\n",
      "Epoch 6/20\n",
      " - 0s - loss: 0.0054 - val_loss: 0.0011\n",
      "Epoch 7/20\n",
      " - 0s - loss: 0.0052 - val_loss: 0.0012\n",
      "Epoch 8/20\n",
      " - 0s - loss: 0.0050 - val_loss: 0.0013\n",
      "Epoch 9/20\n",
      " - 0s - loss: 0.0048 - val_loss: 0.0014\n",
      "Epoch 10/20\n",
      " - 0s - loss: 0.0046 - val_loss: 0.0015\n",
      "Epoch 11/20\n",
      " - 0s - loss: 0.0045 - val_loss: 0.0016\n",
      "Epoch 12/20\n",
      " - 0s - loss: 0.0043 - val_loss: 0.0017\n",
      "Epoch 13/20\n",
      " - 0s - loss: 0.0042 - val_loss: 0.0018\n",
      "Epoch 14/20\n",
      " - 0s - loss: 0.0040 - val_loss: 0.0019\n",
      "Epoch 15/20\n",
      " - 0s - loss: 0.0039 - val_loss: 0.0020\n",
      "Epoch 16/20\n",
      " - 0s - loss: 0.0037 - val_loss: 0.0022\n",
      "Epoch 17/20\n",
      " - 0s - loss: 0.0036 - val_loss: 0.0023\n",
      "Epoch 18/20\n",
      " - 0s - loss: 0.0035 - val_loss: 0.0024\n",
      "Epoch 19/20\n",
      " - 0s - loss: 0.0033 - val_loss: 0.0026\n",
      "Epoch 20/20\n",
      " - 0s - loss: 0.0032 - val_loss: 0.0027\n",
      "Probs is [[-0.53697032, 8], [-0.47220898, 1], [-0.45649636, 6], [-0.44153368, 0], [-0.29924971, 7]] and the new place is 7\n",
      "[[ 0  0  1 -1 -1  1  0  1  0]]\n"
     ]
    }
   ],
   "source": [
    "def getProb(x,curInput):\n",
    "    modifiedInput=np.array([y if i !=x else 1 for i,y in enumerate(curInput[0])]).reshape(1,9,)\n",
    "    return(model.predict(modifiedInput)[0][0])\n",
    "\n",
    "def getModifiedArray(curInput):\n",
    "    opps=[i for i, x in enumerate(randomInput[0]) if x==0]\n",
    "    oppProbs=[[getProb(x,randomInput),x] for x in opps]\n",
    "    oppProbs.sort()\n",
    "    newPlace=oppProbs[-1][1]\n",
    "    print(\"Probs is {} and the new place is {}\".format(oppProbs,newPlace))\n",
    "    modifiedInput=np.array([y if i !=newPlace else 1 for i,y in enumerate(curInput[0])]).reshape(1,9,)\n",
    "    return(modifiedInput)\n",
    "\n",
    "trainModel(a)\n",
    "\n",
    "randomInput=[\n",
    "    [0,0,1],\n",
    "    [-1,-1,1],\n",
    "    [0,0,0]\n",
    "]\n",
    "randomInput=np.reshape(randomInput,(1,9,))\n",
    "print(getModifiedArray(randomInput))"
   ]
  },
  {
   "cell_type": "code",
   "execution_count": 149,
   "metadata": {},
   "outputs": [
    {
     "name": "stdout",
     "output_type": "stream",
     "text": [
      "[[-1, 0, 0], [1, -1, 0], [1, 1, -1]]\n",
      "[[-1  1  1]\n",
      " [ 0 -1  1]\n",
      " [ 0  0 -1]]\n"
     ]
    },
    {
     "data": {
      "text/plain": [
       "-1"
      ]
     },
     "execution_count": 149,
     "metadata": {},
     "output_type": "execute_result"
    }
   ],
   "source": [
    "def checkRows(board):\n",
    "    for row in board:\n",
    "        if (len(set(row)) == 1) and (row[0] != 0):\n",
    "            return row[0]\n",
    "\n",
    "def checkDiagonals(board):\n",
    "    if (len(set([board[i][i] for i in range(len(board))])) == 1) and (board[0][0] != 0):\n",
    "        return board[0][0]\n",
    "    if (len(set([board[i][len(board)-i-1] for i in range(len(board))])) == 1) and (board[0][0] !=0):\n",
    "        return board[0][len(board)-1]\n",
    "    return 999\n",
    "\n",
    "def checkWin(board):\n",
    "    #transposition to check rows, then columns\n",
    "    for newBoard in [board, np.transpose(board)]:\n",
    "        print(newBoard)\n",
    "        result = checkRows(newBoard)\n",
    "        if result:\n",
    "            return result\n",
    "    return checkDiagonals(board)\n",
    "\n",
    "board=[[-1, 0, 0], [1, -1, 0], [1, 1, -1]]\n",
    "checkWin(board)"
   ]
  },
  {
   "cell_type": "code",
   "execution_count": 148,
   "metadata": {},
   "outputs": [
    {
     "data": {
      "text/plain": [
       "1"
      ]
     },
     "execution_count": 148,
     "metadata": {},
     "output_type": "execute_result"
    }
   ],
   "source": [
    "len(set([board[0][0],board[1][1],board[2][2]]))"
   ]
  }
 ],
 "metadata": {
  "kernelspec": {
   "display_name": "Python 2",
   "language": "python",
   "name": "python2"
  },
  "language_info": {
   "codemirror_mode": {
    "name": "ipython",
    "version": 2
   },
   "file_extension": ".py",
   "mimetype": "text/x-python",
   "name": "python",
   "nbconvert_exporter": "python",
   "pygments_lexer": "ipython2",
   "version": "2.7.12"
  }
 },
 "nbformat": 4,
 "nbformat_minor": 1
}
